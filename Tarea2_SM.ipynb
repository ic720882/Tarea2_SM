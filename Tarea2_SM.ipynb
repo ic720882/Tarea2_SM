﻿{
 "cells": [
  {
   "cell_type": "markdown",
   "metadata": {},
   "source": [
    "*Carlos Irigoyen López\n",
    "\n",
    "# Primera lectura:\n",
    "\n",
    "http://anewdomain.net/spotlight-should-you-invest-in-python-training/  \n",
    "\n",
    "Invertir dinero en Phython hoy en día es de gran importancia. Se sabe que los lenguajes de programación están cambiando constantemente. Esto es debido a que se está perfeccionando la tecnología. Sin embargo, Phython se ha mantenido dese hace tres décadas como el invencible. Aprender este lenguaje es de gran ayuda, debido a que hoy en día es necesario saber, aunque sea un lenguaje de programación. \n",
    "\n",
    "Como se dijo anteriormente, hoy en día es esencial aprender un lenguaje de programación. Por lo tanto, Phyton es una muy buena opción. Esto es debido a sus tantas aplicaciones que tiene. Para muchos trabajos y empresas, se está tomando en cuenta el uso esencial de este lenguaje de programación. Es por eso que es una buena opción aprenderla, conquistarla y dominarla. \n",
    "\n"
   ]
  },
  {
   "cell_type": "markdown",
   "metadata": {},
   "source": [
    "# Segunda lectura\n",
    "\n",
    "https://www.economist.com/science-and-technology/2018/07/19/python-has-brought-computer-programming-to-a-vast-new-audience\n",
    "\n",
    "Phython se ha convertido en el titan de los lenguajes de programación. Esto es por que cada vez se hace mas popular entre los programadores y hackers. Sin embargo, también en la gente que no sabe mucho de estos temas, está adquiriendo conocimiento en Phython.   \n",
    "Un día de diciembre de 1989 un holandés experto en ciencias informáticas Creó un lenguaje tomando en cuenta tres cosas. Primero, que sea fácil de leer. Segundo, debe dejar a los que lo usan hacer sus propios paquetes de módulos de codificación de propósito especial, para ponerse a disposición de otros, para hacer las bases para otros programas. Tercero y por úlytimp, quería un nombre original, rimbombante, corto y misterioso. \n"
   ]
  }
 ],
 "metadata": {
  "kernelspec": {
   "display_name": "Python 3",
   "language": "python",
   "name": "python3"
  },
  "language_info": {
   "codemirror_mode": {
    "name": "ipython",
    "version": 3
   },
   "file_extension": ".py",
   "mimetype": "text/x-python",
   "name": "python",
   "nbconvert_exporter": "python",
   "pygments_lexer": "ipython3",
   "version": "3.7.1"
  }
 },
 "nbformat": 4,
 "nbformat_minor": 2
}
 

SE MODIFICO